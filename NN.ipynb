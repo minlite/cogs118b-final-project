{
 "cells": [
  {
   "cell_type": "code",
   "execution_count": 1,
   "metadata": {
    "scrolled": true
   },
   "outputs": [],
   "source": [
    "import torch\n",
    "import pandas as pd\n",
    "import numpy as np"
   ]
  },
  {
   "cell_type": "code",
   "execution_count": 2,
   "metadata": {},
   "outputs": [],
   "source": [
    "train_perc = 0.8"
   ]
  },
  {
   "cell_type": "code",
   "execution_count": 3,
   "metadata": {},
   "outputs": [
    {
     "name": "stdout",
     "output_type": "stream",
     "text": [
      "(683, 9) (683,)\n",
      "(546, 9) (137, 9) (546,) (137,)\n"
     ]
    }
   ],
   "source": [
    "X_and_Y = pd.read_csv('breast-cancer-wisconsin.data',\n",
    "                                        delimiter=',',\n",
    "                                        header=None,\n",
    "                                        index_col=0)\n",
    "\n",
    "X_and_Y.columns = ['Thickness', 'Uniformity of Cell Size', 'Uniformity of Cell Shape', 'Marginal Adhesion', 'Single Epithelial Cell Size', 'Bare Nuclei', 'Bland Chromatin', 'Normal Nucleoli', 'Mitoses', 'Class']\n",
    "\n",
    "# Clean data by dropping values with missing data\n",
    "X_and_Y = X_and_Y.replace(\"?\", np.nan)\n",
    "X_and_Y = X_and_Y.dropna()\n",
    "\n",
    "# Get values from pandas\n",
    "X_and_Y = X_and_Y.values\n",
    "\n",
    "# Separate X and Y\n",
    "np.random.shuffle(X_and_Y)   # Shuffle the data.\n",
    "X = X_and_Y[:, 0:-1]         # First column to second last column: Features (numerical values)\n",
    "Y = X_and_Y[:, -1]           # Last column: Labels (0 or 1)\n",
    "print(X.shape, Y.shape)      # Check the shapes.\n",
    "\n",
    "Y[Y == 2] = 0\n",
    "Y[Y == 4] = 1\n",
    "\n",
    "\n",
    "X_train_val = X[:int(train_perc*len(X))] # Get features from train + val set.\n",
    "X_test      = X[int(train_perc*len(X)):] # Get features from test set.\n",
    "Y_train_val = Y[:int(train_perc*len(Y))] # Get labels from train + val set.\n",
    "Y_test      = Y[int(train_perc*len(Y)):] # Get labels from test set.\n",
    "print(X_train_val.shape, X_test.shape, Y_train_val.shape, Y_test.shape)\n",
    "\n",
    "X_test = X_test.astype(float)\n",
    "X_test = torch.FloatTensor(X_test)\n",
    "Y_test = Y_test.astype(float)\n",
    "Y_test = torch.FloatTensor(Y_test)\n",
    "\n",
    "X_train_val = X_train_val.astype(float)\n",
    "X_train_val = torch.FloatTensor(X_train_val)\n",
    "Y_train_val = Y_train_val.astype(float)\n",
    "Y_train_val = torch.FloatTensor(Y_train_val)"
   ]
  },
  {
   "cell_type": "code",
   "execution_count": 4,
   "metadata": {},
   "outputs": [],
   "source": [
    "class Feedforward(torch.nn.Module):\n",
    "        def __init__(self, input_size, hidden_size):\n",
    "            super(Feedforward, self).__init__()\n",
    "            self.input_size = input_size\n",
    "            self.hidden_size  = hidden_size\n",
    "            self.fc1 = torch.nn.Linear(self.input_size, self.hidden_size)\n",
    "            self.relu = torch.nn.ReLU()\n",
    "            self.fc2 = torch.nn.Linear(self.hidden_size, 1)\n",
    "            self.sigmoid = torch.nn.Sigmoid()\n",
    "        def forward(self, x):\n",
    "            hidden = self.fc1(x)\n",
    "            relu = self.relu(hidden)\n",
    "            output = self.fc2(relu)\n",
    "            output = self.sigmoid(output)\n",
    "            return output"
   ]
  },
  {
   "cell_type": "code",
   "execution_count": 5,
   "metadata": {},
   "outputs": [],
   "source": [
    "model = Feedforward(X_train_val.shape[1], 10)\n",
    "criterion = torch.nn.BCELoss()\n",
    "optimizer = torch.optim.SGD(model.parameters(), lr = 0.001)"
   ]
  },
  {
   "cell_type": "code",
   "execution_count": 6,
   "metadata": {},
   "outputs": [
    {
     "name": "stdout",
     "output_type": "stream",
     "text": [
      "Test loss before training 0.5457474589347839\n"
     ]
    }
   ],
   "source": [
    "model.eval()\n",
    "y_pred = model(X_test)\n",
    "before_train = criterion(y_pred.squeeze(), Y_test)\n",
    "print('Test loss before training' , before_train.item())"
   ]
  },
  {
   "cell_type": "code",
   "execution_count": 7,
   "metadata": {},
   "outputs": [
    {
     "name": "stdout",
     "output_type": "stream",
     "text": [
      "Epoch 0: train loss: 0.5786882638931274\n",
      "Epoch 1: train loss: 0.5784894824028015\n",
      "Epoch 2: train loss: 0.5782906413078308\n",
      "Epoch 3: train loss: 0.5780943036079407\n",
      "Epoch 4: train loss: 0.5778982639312744\n",
      "Epoch 5: train loss: 0.5777022242546082\n",
      "Epoch 6: train loss: 0.5775094628334045\n",
      "Epoch 7: train loss: 0.5773164629936218\n",
      "Epoch 8: train loss: 0.5771243572235107\n",
      "Epoch 9: train loss: 0.5769334435462952\n",
      "Epoch 10: train loss: 0.5767440795898438\n",
      "Epoch 11: train loss: 0.5765547156333923\n",
      "Epoch 12: train loss: 0.5763673186302185\n",
      "Epoch 13: train loss: 0.5761801600456238\n",
      "Epoch 14: train loss: 0.5759938955307007\n",
      "Epoch 15: train loss: 0.5758078694343567\n",
      "Epoch 16: train loss: 0.5756235718727112\n",
      "Epoch 17: train loss: 0.5754392743110657\n",
      "Epoch 18: train loss: 0.5752558708190918\n",
      "Epoch 19: train loss: 0.5750730037689209\n"
     ]
    }
   ],
   "source": [
    "model.train()\n",
    "epoch = 20\n",
    "for epoch in range(epoch):\n",
    "    optimizer.zero_grad()\n",
    "    # Forward pass\n",
    "    y_pred = model(X_train_val)\n",
    "    # Compute Loss\n",
    "    loss = criterion(y_pred.squeeze(), Y_train_val)\n",
    "   \n",
    "    print('Epoch {}: train loss: {}'.format(epoch, loss.item()))\n",
    "    # Backward pass\n",
    "    loss.backward()\n",
    "    optimizer.step()"
   ]
  },
  {
   "cell_type": "code",
   "execution_count": 8,
   "metadata": {},
   "outputs": [
    {
     "data": {
      "text/plain": [
       "tensor([[0.4737],\n",
       "        [0.6274],\n",
       "        [0.4767],\n",
       "        [0.5160],\n",
       "        [0.9473],\n",
       "        [0.4350],\n",
       "        [0.5156],\n",
       "        [0.4721],\n",
       "        [0.5272],\n",
       "        [0.5267],\n",
       "        [0.4790],\n",
       "        [0.4746],\n",
       "        [0.4866],\n",
       "        [0.4299],\n",
       "        [0.4036],\n",
       "        [0.8519],\n",
       "        [0.4697],\n",
       "        [0.4796],\n",
       "        [0.9606],\n",
       "        [0.4487],\n",
       "        [0.8999],\n",
       "        [0.3800],\n",
       "        [0.4932],\n",
       "        [0.4790],\n",
       "        [0.6632],\n",
       "        [0.5246],\n",
       "        [0.4924],\n",
       "        [0.8900],\n",
       "        [0.9219],\n",
       "        [0.5289],\n",
       "        [0.9089],\n",
       "        [0.5880],\n",
       "        [0.8299],\n",
       "        [0.4628],\n",
       "        [0.4746],\n",
       "        [0.4628],\n",
       "        [0.5231],\n",
       "        [0.8068],\n",
       "        [0.4796],\n",
       "        [0.5456],\n",
       "        [0.4772],\n",
       "        [0.8326],\n",
       "        [0.4912],\n",
       "        [0.4956],\n",
       "        [0.9284],\n",
       "        [0.4956],\n",
       "        [0.4059],\n",
       "        [0.4956],\n",
       "        [0.4651],\n",
       "        [0.7857],\n",
       "        [0.5026],\n",
       "        [0.9127],\n",
       "        [0.5383],\n",
       "        [0.7607],\n",
       "        [0.6905],\n",
       "        [0.8619],\n",
       "        [0.4699],\n",
       "        [0.4732],\n",
       "        [0.4765],\n",
       "        [0.4919],\n",
       "        [0.5445],\n",
       "        [0.8080],\n",
       "        [0.4697],\n",
       "        [0.9125],\n",
       "        [0.4956],\n",
       "        [0.4721],\n",
       "        [0.4720],\n",
       "        [0.4767],\n",
       "        [0.4490],\n",
       "        [0.4956],\n",
       "        [0.9186],\n",
       "        [0.7934],\n",
       "        [0.9050],\n",
       "        [0.8534],\n",
       "        [0.8885],\n",
       "        [0.4991],\n",
       "        [0.4820],\n",
       "        [0.5190],\n",
       "        [0.4895],\n",
       "        [0.5190],\n",
       "        [0.6052],\n",
       "        [0.4598],\n",
       "        [0.4765],\n",
       "        [0.4767],\n",
       "        [0.4956],\n",
       "        [0.3757],\n",
       "        [0.4558],\n",
       "        [0.4672],\n",
       "        [0.8299],\n",
       "        [0.4820],\n",
       "        [0.4765],\n",
       "        [0.6070],\n",
       "        [0.4651],\n",
       "        [0.8295],\n",
       "        [0.9506],\n",
       "        [0.4772],\n",
       "        [0.4765],\n",
       "        [0.9028],\n",
       "        [0.3187],\n",
       "        [0.7161],\n",
       "        [0.5065],\n",
       "        [0.5395],\n",
       "        [0.4367],\n",
       "        [0.4887],\n",
       "        [0.5121],\n",
       "        [0.4721],\n",
       "        [0.4956],\n",
       "        [0.4873],\n",
       "        [0.2690],\n",
       "        [0.7085],\n",
       "        [0.4919],\n",
       "        [0.4820],\n",
       "        [0.4956],\n",
       "        [0.5799],\n",
       "        [0.5314],\n",
       "        [0.4772],\n",
       "        [0.9092],\n",
       "        [0.7678],\n",
       "        [0.8758],\n",
       "        [0.4706],\n",
       "        [0.7807],\n",
       "        [0.8355],\n",
       "        [0.4651],\n",
       "        [0.4616],\n",
       "        [0.9483],\n",
       "        [0.4672],\n",
       "        [0.7653],\n",
       "        [0.4651],\n",
       "        [0.4905],\n",
       "        [0.4911],\n",
       "        [0.4912],\n",
       "        [0.5339],\n",
       "        [0.6200],\n",
       "        [0.4765],\n",
       "        [0.8242],\n",
       "        [0.5359],\n",
       "        [0.9066]], grad_fn=<SigmoidBackward>)"
      ]
     },
     "execution_count": 8,
     "metadata": {},
     "output_type": "execute_result"
    }
   ],
   "source": [
    "model.eval()\n",
    "y_pred = model(X_test)\n",
    "# after_train = criterion(y_pred.squeeze(), Y_test) \n",
    "# print('Test loss after Training' , after_train.item())\n",
    "y_pred\n"
   ]
  }
 ],
 "metadata": {
  "kernelspec": {
   "display_name": "Python 3",
   "language": "python",
   "name": "python3"
  },
  "language_info": {
   "codemirror_mode": {
    "name": "ipython",
    "version": 3
   },
   "file_extension": ".py",
   "mimetype": "text/x-python",
   "name": "python",
   "nbconvert_exporter": "python",
   "pygments_lexer": "ipython3",
   "version": "3.7.3"
  }
 },
 "nbformat": 4,
 "nbformat_minor": 2
}
