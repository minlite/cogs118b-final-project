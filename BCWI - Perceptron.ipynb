{
 "cells": [
  {
   "cell_type": "code",
   "execution_count": 7,
   "metadata": {
    "scrolled": true
   },
   "outputs": [],
   "source": [
    "import torch\n",
    "import pandas as pd\n",
    "import numpy as np"
   ]
  },
  {
   "cell_type": "code",
   "execution_count": 8,
   "metadata": {},
   "outputs": [],
   "source": [
    "train_perc = 0.8"
   ]
  },
  {
   "cell_type": "code",
   "execution_count": 9,
   "metadata": {},
   "outputs": [
    {
     "name": "stdout",
     "output_type": "stream",
     "text": [
      "(683, 9) (683,)\n",
      "(546, 9) (137, 9) (546,) (137,)\n"
     ]
    }
   ],
   "source": [
    "X_and_Y = pd.read_csv('breast-cancer-wisconsin.data',\n",
    "                                        delimiter=',',\n",
    "                                        header=None,\n",
    "                                        index_col=0)\n",
    "\n",
    "X_and_Y.columns = ['Thickness', 'Uniformity of Cell Size', 'Uniformity of Cell Shape', 'Marginal Adhesion', 'Single Epithelial Cell Size', 'Bare Nuclei', 'Bland Chromatin', 'Normal Nucleoli', 'Mitoses', 'Class']\n",
    "\n",
    "# Clean data by dropping values with missing data\n",
    "X_and_Y = X_and_Y.replace(\"?\", np.nan)\n",
    "X_and_Y = X_and_Y.dropna()\n",
    "\n",
    "# Get values from pandas\n",
    "X_and_Y = X_and_Y.values\n",
    "\n",
    "# Separate X and Y\n",
    "np.random.shuffle(X_and_Y)   # Shuffle the data.\n",
    "X = X_and_Y[:, 0:-1]         # First column to second last column: Features (numerical values)\n",
    "Y = X_and_Y[:, -1]           # Last column: Labels (0 or 1)\n",
    "print(X.shape, Y.shape)      # Check the shapes.\n",
    "\n",
    "Y[Y == 2] = 0\n",
    "Y[Y == 4] = 1\n",
    "\n",
    "\n",
    "X_train_val = X[:int(train_perc*len(X))] # Get features from train + val set.\n",
    "X_test      = X[int(train_perc*len(X)):] # Get features from test set.\n",
    "Y_train_val = Y[:int(train_perc*len(Y))] # Get labels from train + val set.\n",
    "Y_test      = Y[int(train_perc*len(Y)):] # Get labels from test set.\n",
    "print(X_train_val.shape, X_test.shape, Y_train_val.shape, Y_test.shape)\n",
    "\n",
    "X_test = X_test.astype(float)\n",
    "X_test = torch.FloatTensor(X_test)\n",
    "Y_test = Y_test.astype(float)\n",
    "Y_test = torch.FloatTensor(Y_test)\n",
    "\n",
    "X_train_val = X_train_val.astype(float)\n",
    "X_train_val = torch.FloatTensor(X_train_val)\n",
    "Y_train_val = Y_train_val.astype(float)\n",
    "Y_train_val = torch.FloatTensor(Y_train_val)"
   ]
  },
  {
   "cell_type": "code",
   "execution_count": 111,
   "metadata": {},
   "outputs": [],
   "source": [
    "class Feedforward(torch.nn.Module):\n",
    "        def __init__(self, input_size, hidden_size):\n",
    "            super(Feedforward, self).__init__()\n",
    "            self.input_size = input_size\n",
    "            self.hidden_size  = hidden_size\n",
    "            self.fc1 = torch.nn.Linear(self.input_size, self.hidden_size)\n",
    "            self.relu = torch.nn.ReLU()\n",
    "            self.fc2 = torch.nn.Linear(self.hidden_size, 1)\n",
    "            self.sigmoid = torch.nn.Sigmoid()\n",
    "        def forward(self, x):\n",
    "            hidden = self.fc1(x)\n",
    "            relu = self.relu(hidden)\n",
    "            output = self.fc2(relu)\n",
    "            output = self.sigmoid(output)\n",
    "            return output"
   ]
  },
  {
   "cell_type": "code",
   "execution_count": 124,
   "metadata": {},
   "outputs": [],
   "source": [
    "model = Feedforward(X_train_val.shape[1], 10)\n",
    "criterion = torch.nn.BCELoss()\n",
    "optimizer = torch.optim.SGD(model.parameters(), lr = 0.1)"
   ]
  },
  {
   "cell_type": "code",
   "execution_count": 125,
   "metadata": {},
   "outputs": [
    {
     "name": "stdout",
     "output_type": "stream",
     "text": [
      "Test loss before training 0.6042898893356323\n"
     ]
    }
   ],
   "source": [
    "model.eval()\n",
    "y_pred = model(X_test)\n",
    "before_train = criterion(y_pred.squeeze(), Y_test)\n",
    "print('Test loss before training' , before_train.item())"
   ]
  },
  {
   "cell_type": "code",
   "execution_count": 126,
   "metadata": {},
   "outputs": [
    {
     "name": "stdout",
     "output_type": "stream",
     "text": [
      "Epoch 0: train loss: 0.5988958477973938\n",
      "Epoch 1: train loss: 0.5634580254554749\n",
      "Epoch 2: train loss: 0.5363854765892029\n",
      "Epoch 3: train loss: 0.5126324892044067\n",
      "Epoch 4: train loss: 0.49141940474510193\n",
      "Epoch 5: train loss: 0.4723828136920929\n",
      "Epoch 6: train loss: 0.455081045627594\n",
      "Epoch 7: train loss: 0.4396416246891022\n",
      "Epoch 8: train loss: 0.4258510172367096\n",
      "Epoch 9: train loss: 0.41326791048049927\n",
      "Epoch 10: train loss: 0.4015505313873291\n",
      "Epoch 11: train loss: 0.390625536441803\n",
      "Epoch 12: train loss: 0.38046425580978394\n",
      "Epoch 13: train loss: 0.3710257411003113\n",
      "Epoch 14: train loss: 0.3621004521846771\n",
      "Epoch 15: train loss: 0.35368120670318604\n",
      "Epoch 16: train loss: 0.3457433879375458\n",
      "Epoch 17: train loss: 0.3382556736469269\n",
      "Epoch 18: train loss: 0.33116021752357483\n",
      "Epoch 19: train loss: 0.3244476914405823\n",
      "Epoch 20: train loss: 0.31809431314468384\n",
      "Epoch 21: train loss: 0.31207722425460815\n",
      "Epoch 22: train loss: 0.3063555359840393\n",
      "Epoch 23: train loss: 0.3009171187877655\n",
      "Epoch 24: train loss: 0.2957504093647003\n",
      "Epoch 25: train loss: 0.2908415198326111\n",
      "Epoch 26: train loss: 0.28618955612182617\n",
      "Epoch 27: train loss: 0.2817619740962982\n",
      "Epoch 28: train loss: 0.27754324674606323\n",
      "Epoch 29: train loss: 0.2735288143157959\n",
      "Epoch 30: train loss: 0.26969873905181885\n",
      "Epoch 31: train loss: 0.26603034138679504\n",
      "Epoch 32: train loss: 0.26251763105392456\n",
      "Epoch 33: train loss: 0.2591565251350403\n",
      "Epoch 34: train loss: 0.2559462785720825\n",
      "Epoch 35: train loss: 0.25286415219306946\n",
      "Epoch 36: train loss: 0.2499019056558609\n",
      "Epoch 37: train loss: 0.2470538467168808\n",
      "Epoch 38: train loss: 0.24431252479553223\n",
      "Epoch 39: train loss: 0.2416711300611496\n",
      "Epoch 40: train loss: 0.2391226589679718\n",
      "Epoch 41: train loss: 0.23665516078472137\n",
      "Epoch 42: train loss: 0.23426930606365204\n",
      "Epoch 43: train loss: 0.23196275532245636\n",
      "Epoch 44: train loss: 0.2297385185956955\n",
      "Epoch 45: train loss: 0.22758327424526215\n",
      "Epoch 46: train loss: 0.22549526393413544\n",
      "Epoch 47: train loss: 0.22347842156887054\n",
      "Epoch 48: train loss: 0.2215261459350586\n",
      "Epoch 49: train loss: 0.21962743997573853\n",
      "Epoch 50: train loss: 0.21778203547000885\n",
      "Epoch 51: train loss: 0.21599072217941284\n",
      "Epoch 52: train loss: 0.21424785256385803\n",
      "Epoch 53: train loss: 0.21255123615264893\n",
      "Epoch 54: train loss: 0.21089868247509003\n",
      "Epoch 55: train loss: 0.2092859447002411\n",
      "Epoch 56: train loss: 0.20771284401416779\n",
      "Epoch 57: train loss: 0.20618078112602234\n",
      "Epoch 58: train loss: 0.20468856394290924\n",
      "Epoch 59: train loss: 0.20323361456394196\n",
      "Epoch 60: train loss: 0.2018115371465683\n",
      "Epoch 61: train loss: 0.2004210352897644\n",
      "Epoch 62: train loss: 0.1990586221218109\n",
      "Epoch 63: train loss: 0.19772475957870483\n",
      "Epoch 64: train loss: 0.19642069935798645\n",
      "Epoch 65: train loss: 0.19513970613479614\n",
      "Epoch 66: train loss: 0.19388246536254883\n",
      "Epoch 67: train loss: 0.19264821708202362\n",
      "Epoch 68: train loss: 0.19142501056194305\n",
      "Epoch 69: train loss: 0.19022198021411896\n",
      "Epoch 70: train loss: 0.18904195725917816\n",
      "Epoch 71: train loss: 0.1878916621208191\n",
      "Epoch 72: train loss: 0.18676002323627472\n",
      "Epoch 73: train loss: 0.18564751744270325\n",
      "Epoch 74: train loss: 0.18454891443252563\n",
      "Epoch 75: train loss: 0.1834711730480194\n",
      "Epoch 76: train loss: 0.18241071701049805\n",
      "Epoch 77: train loss: 0.18136949837207794\n",
      "Epoch 78: train loss: 0.1803458034992218\n",
      "Epoch 79: train loss: 0.17933736741542816\n",
      "Epoch 80: train loss: 0.17834533751010895\n",
      "Epoch 81: train loss: 0.1773669421672821\n",
      "Epoch 82: train loss: 0.17640428245067596\n",
      "Epoch 83: train loss: 0.17545610666275024\n",
      "Epoch 84: train loss: 0.1745227426290512\n",
      "Epoch 85: train loss: 0.17360584437847137\n",
      "Epoch 86: train loss: 0.1727018505334854\n",
      "Epoch 87: train loss: 0.17181017994880676\n",
      "Epoch 88: train loss: 0.17093026638031006\n",
      "Epoch 89: train loss: 0.17006199061870575\n",
      "Epoch 90: train loss: 0.1692042499780655\n",
      "Epoch 91: train loss: 0.16835737228393555\n",
      "Epoch 92: train loss: 0.16752102971076965\n",
      "Epoch 93: train loss: 0.16669528186321259\n",
      "Epoch 94: train loss: 0.16587916016578674\n",
      "Epoch 95: train loss: 0.16507242619991302\n",
      "Epoch 96: train loss: 0.16427560150623322\n",
      "Epoch 97: train loss: 0.16348828375339508\n",
      "Epoch 98: train loss: 0.1627090722322464\n",
      "Epoch 99: train loss: 0.1619396060705185\n"
     ]
    }
   ],
   "source": [
    "model.train()\n",
    "epoch = 100\n",
    "for epoch in range(epoch):\n",
    "    optimizer.zero_grad()\n",
    "    # Forward pass\n",
    "    y_pred = model(X_train_val)\n",
    "    # Compute Loss\n",
    "    loss = criterion(y_pred.squeeze(), Y_train_val)\n",
    "   \n",
    "    print('Epoch {}: train loss: {}'.format(epoch, loss.item()))\n",
    "    # Backward pass\n",
    "    loss.backward()\n",
    "    optimizer.step()"
   ]
  },
  {
   "cell_type": "code",
   "execution_count": 127,
   "metadata": {},
   "outputs": [
    {
     "name": "stdout",
     "output_type": "stream",
     "text": [
      "[0.0, 1.0, 1.0, 0.0, 1.0, 1.0, 1.0, 0.0, 1.0, 0.0, 0.0, 1.0, 1.0, 1.0, 0.0, 0.0, 0.0, 0.0, 0.0, 1.0, 1.0, 1.0, 0.0, 1.0, 0.0, 0.0, 1.0, 0.0, 1.0, 0.0, 0.0, 0.0, 0.0, 0.0, 1.0, 1.0, 0.0, 0.0, 0.0, 0.0, 0.0, 1.0, 0.0, 1.0, 1.0, 1.0, 1.0, 1.0, 0.0, 0.0, 0.0, 0.0, 0.0, 1.0, 1.0, 0.0, 1.0, 0.0, 0.0, 1.0, 1.0, 1.0, 1.0, 0.0, 0.0, 1.0, 0.0, 1.0, 0.0, 0.0, 1.0, 1.0, 0.0, 1.0, 0.0, 0.0, 1.0, 1.0, 1.0, 0.0, 0.0, 0.0, 1.0, 1.0, 0.0, 1.0, 1.0, 0.0, 0.0, 0.0, 0.0, 1.0, 0.0, 1.0, 0.0, 0.0, 0.0, 0.0, 0.0, 0.0, 0.0, 0.0, 0.0, 0.0, 1.0, 1.0, 1.0, 0.0, 1.0, 0.0, 1.0, 0.0, 0.0, 0.0, 1.0, 0.0, 0.0, 0.0, 0.0, 0.0, 1.0, 0.0, 0.0, 0.0, 0.0, 1.0, 0.0, 1.0, 0.0, 0.0, 1.0, 0.0, 1.0, 0.0, 0.0, 1.0, 0.0]\n",
      "tensor([0., 1., 1., 0., 1., 1., 1., 0., 1., 0., 0., 1., 0., 1., 0., 0., 0., 0.,\n",
      "        0., 1., 1., 1., 0., 1., 0., 0., 1., 0., 1., 0., 0., 0., 0., 0., 1., 1.,\n",
      "        0., 0., 0., 0., 0., 1., 0., 1., 1., 1., 1., 1., 0., 0., 0., 0., 0., 0.,\n",
      "        1., 0., 1., 0., 0., 1., 1., 1., 1., 0., 0., 1., 0., 1., 0., 0., 1., 1.,\n",
      "        0., 1., 0., 0., 1., 0., 1., 0., 0., 1., 1., 1., 0., 1., 1., 0., 0., 0.,\n",
      "        0., 1., 0., 1., 0., 0., 0., 0., 1., 0., 0., 0., 0., 0., 1., 1., 1., 0.,\n",
      "        0., 0., 1., 0., 0., 0., 0., 0., 0., 0., 0., 0., 1., 0., 0., 0., 0., 0.,\n",
      "        0., 1., 0., 0., 0., 0., 1., 0., 0., 1., 0.])\n",
      "Index: 12 is wrong. Expected: 0.0 Output: 1.0\n",
      "Index: 53 is wrong. Expected: 0.0 Output: 1.0\n",
      "Index: 77 is wrong. Expected: 0.0 Output: 1.0\n",
      "Index: 81 is wrong. Expected: 1.0 Output: 0.0\n",
      "Index: 98 is wrong. Expected: 1.0 Output: 0.0\n",
      "Index: 108 is wrong. Expected: 0.0 Output: 1.0\n",
      "Index: 114 is wrong. Expected: 0.0 Output: 1.0\n",
      "Index: 125 is wrong. Expected: 0.0 Output: 1.0\n",
      "Index: 130 is wrong. Expected: 0.0 Output: 1.0\n",
      "Accuracy: 0.9343065693430657\n"
     ]
    }
   ],
   "source": [
    "model.eval()\n",
    "y_pred = model(X_test)\n",
    "# after_train = criterion(y_pred.squeeze(), Y_test) \n",
    "# print('Test loss after Training' , after_train.item())\n",
    "translated = [1.0 if x > 0.5 else 0.0 for x in y_pred]\n",
    "print(translated)\n",
    "print(Y_test)\n",
    "\n",
    "correct = 0\n",
    "\n",
    "for i, val in enumerate(translated):\n",
    "    if val == Y_test[i]:\n",
    "        correct += 1\n",
    "    else:\n",
    "        print(\"Index: {} is wrong. Expected: {} Output: {}\".format(i, Y_test[i], val))\n",
    "        \n",
    "print(\"Accuracy: {}\".format(correct / len(translated)))\n"
   ]
  }
 ],
 "metadata": {
  "kernelspec": {
   "display_name": "Python 3",
   "language": "python",
   "name": "python3"
  },
  "language_info": {
   "codemirror_mode": {
    "name": "ipython",
    "version": 3
   },
   "file_extension": ".py",
   "mimetype": "text/x-python",
   "name": "python",
   "nbconvert_exporter": "python",
   "pygments_lexer": "ipython3",
   "version": "3.7.3"
  }
 },
 "nbformat": 4,
 "nbformat_minor": 2
}
